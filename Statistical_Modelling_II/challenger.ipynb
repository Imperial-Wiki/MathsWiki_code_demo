{
 "cells": [
  {
   "cell_type": "markdown",
   "metadata": {},
   "source": [
    "Challenger data analysis"
   ]
  },
  {
   "cell_type": "code",
   "execution_count": 119,
   "metadata": {},
   "outputs": [],
   "source": [
    "import numpy as np\n",
    "import pandas as pd\n",
    "import statsmodels.api as sm\n",
    "from typing_extensions import Literal\n",
    "import matplotlib.pyplot as plt"
   ]
  },
  {
   "cell_type": "markdown",
   "metadata": {},
   "source": [
    "Import dataset"
   ]
  },
  {
   "cell_type": "code",
   "execution_count": 2,
   "metadata": {},
   "outputs": [
    {
     "data": {
      "text/html": [
       "<div>\n",
       "<style scoped>\n",
       "    .dataframe tbody tr th:only-of-type {\n",
       "        vertical-align: middle;\n",
       "    }\n",
       "\n",
       "    .dataframe tbody tr th {\n",
       "        vertical-align: top;\n",
       "    }\n",
       "\n",
       "    .dataframe thead th {\n",
       "        text-align: right;\n",
       "    }\n",
       "</style>\n",
       "<table border=\"1\" class=\"dataframe\">\n",
       "  <thead>\n",
       "    <tr style=\"text-align: right;\">\n",
       "      <th></th>\n",
       "      <th>total</th>\n",
       "      <th>eroded</th>\n",
       "      <th>temperature</th>\n",
       "      <th>pressure</th>\n",
       "    </tr>\n",
       "    <tr>\n",
       "      <th></th>\n",
       "      <th></th>\n",
       "      <th></th>\n",
       "      <th></th>\n",
       "      <th></th>\n",
       "    </tr>\n",
       "  </thead>\n",
       "  <tbody>\n",
       "    <tr>\n",
       "      <th>1</th>\n",
       "      <td>6</td>\n",
       "      <td>0</td>\n",
       "      <td>66</td>\n",
       "      <td>50</td>\n",
       "    </tr>\n",
       "    <tr>\n",
       "      <th>2</th>\n",
       "      <td>6</td>\n",
       "      <td>1</td>\n",
       "      <td>70</td>\n",
       "      <td>50</td>\n",
       "    </tr>\n",
       "    <tr>\n",
       "      <th>3</th>\n",
       "      <td>6</td>\n",
       "      <td>0</td>\n",
       "      <td>69</td>\n",
       "      <td>50</td>\n",
       "    </tr>\n",
       "    <tr>\n",
       "      <th>4</th>\n",
       "      <td>6</td>\n",
       "      <td>0</td>\n",
       "      <td>68</td>\n",
       "      <td>50</td>\n",
       "    </tr>\n",
       "    <tr>\n",
       "      <th>5</th>\n",
       "      <td>6</td>\n",
       "      <td>0</td>\n",
       "      <td>67</td>\n",
       "      <td>50</td>\n",
       "    </tr>\n",
       "  </tbody>\n",
       "</table>\n",
       "</div>"
      ],
      "text/plain": [
       "   total  eroded  temperature  pressure\n",
       "                                       \n",
       "1      6       0           66        50\n",
       "2      6       1           70        50\n",
       "3      6       0           69        50\n",
       "4      6       0           68        50\n",
       "5      6       0           67        50"
      ]
     },
     "execution_count": 2,
     "metadata": {},
     "output_type": "execute_result"
    }
   ],
   "source": [
    "orings = pd.read_csv('o-ring-erosion-only.data', sep=' ', \n",
    "                     header=None, index_col=-1,\n",
    "                     names=['total', 'eroded', 'temperature', 'pressure', ''])\n",
    "orings.head()"
   ]
  },
  {
   "cell_type": "markdown",
   "metadata": {},
   "source": [
    "Code for forming design matrix."
   ]
  },
  {
   "cell_type": "code",
   "execution_count": 3,
   "metadata": {},
   "outputs": [],
   "source": [
    "# compute number of entries\n",
    "n = orings.shape[0]\n",
    "\n",
    "# compute design matrix by first getting relevant colume and stacking a column of one\n",
    "X = np.hstack([np.ones((n,1)), orings[[\"temperature\", \"pressure\"]].to_numpy()])\n",
    "\n",
    "# compute output vector\n",
    "y = orings[\"eroded\"].to_numpy()"
   ]
  },
  {
   "cell_type": "markdown",
   "metadata": {},
   "source": [
    "Compute loss function"
   ]
  },
  {
   "cell_type": "code",
   "execution_count": 4,
   "metadata": {},
   "outputs": [],
   "source": [
    "def loss(beta: np.array, X: np.array, y: np.array) -> float:\n",
    "    '''Compute value of the empirical loss.'''\n",
    "    \n",
    "    # compute vector of np.dot(xi, beta)\n",
    "    theta = X @ beta  \n",
    "\n",
    "    # compute vector of summands\n",
    "    ell_vec = y * theta - 6 * np.log(1 + np.exp(theta))\n",
    "\n",
    "    return np.sum(ell_vec)"
   ]
  },
  {
   "cell_type": "markdown",
   "metadata": {},
   "source": [
    "Compute score vector."
   ]
  },
  {
   "cell_type": "code",
   "execution_count": 16,
   "metadata": {},
   "outputs": [],
   "source": [
    "def score(beta: np.array, X: np.array, y: np.array) -> np.array:\n",
    "    '''Compute the accurate score vector.'''\n",
    "    \n",
    "    theta = X @ beta\n",
    "    return X.T @ (y - 6 / (1 + np.exp(-theta)))"
   ]
  },
  {
   "cell_type": "markdown",
   "metadata": {},
   "source": [
    "Compute a sample of score vector."
   ]
  },
  {
   "cell_type": "code",
   "execution_count": 47,
   "metadata": {},
   "outputs": [],
   "source": [
    "def score_sample(beta: np.array, X: np.array, y: np.array, \n",
    "                 rng_generator: np.random.Generator=None) -> np.array:\n",
    "\n",
    "    if rng_generator:\n",
    "        x_i = X[rng_generator.integers(n)]\n",
    "        y_i = y[rng_generator.integers(n)]\n",
    "    else:\n",
    "        x_i = X[np.random.randint(n)]\n",
    "        y_i = y[np.random.randint(n)]\n",
    "\n",
    "    return n * (y_i - 6 / (1 + np.exp(-np.dot(x_i, beta)))) * x_i\n"
   ]
  },
  {
   "cell_type": "markdown",
   "metadata": {},
   "source": [
    "(Stochastic) gradient descent"
   ]
  },
  {
   "cell_type": "code",
   "execution_count": 161,
   "metadata": {},
   "outputs": [],
   "source": [
    "def sgd(X: np.array, y: np.array, beta_0: np.array=None, stochastic: bool=False,\n",
    "        step_schedule: Literal[\"constant\", \"robbins\"]=\"constant\", alpha: float=1.,\n",
    "        max_step: int=25, tol: float=1e-10, \n",
    "        rng_generator: np.random.Generator=None, \n",
    "        store_history: bool=False) -> np.array:\n",
    "    \n",
    "    # TODO: randomly initialise beta_0 if no initial beta_0 is given\n",
    "    if beta_0 != None:\n",
    "        beta = beta_0\n",
    "    else:\n",
    "        if rng_generator:\n",
    "            beta = rng_generator.random(3)\n",
    "        else:\n",
    "            beta = np.zeros(3)\n",
    "\n",
    "    if store_history:\n",
    "        history = [beta]   # create list of history of beta\n",
    "\n",
    "    # SGD\n",
    "    for k in range(max_step):\n",
    "\n",
    "        # sample score vector\n",
    "        if stochastic:\n",
    "            update = score_sample(beta, X, y, rng_generator)\n",
    "        else:\n",
    "            update = score(beta, X, y)\n",
    "\n",
    "        # update beta\n",
    "        if step_schedule == \"robbins\":\n",
    "            new_beta = beta + alpha / (k + 1) * update\n",
    "        else:\n",
    "            new_beta = beta + alpha * update\n",
    "\n",
    "        # store history\n",
    "        if store_history:\n",
    "            history.append(new_beta)\n",
    "        \n",
    "        # check if terminate\n",
    "        if abs(loss(new_beta, X, y) - loss(beta, X, y)) < tol:\n",
    "            break\n",
    "        else:\n",
    "            beta = new_beta\n",
    "\n",
    "    # return\n",
    "    if store_history:\n",
    "        return history\n",
    "    else:\n",
    "        return new_beta"
   ]
  },
  {
   "cell_type": "markdown",
   "metadata": {},
   "source": [
    "IWLS"
   ]
  },
  {
   "cell_type": "code",
   "execution_count": 109,
   "metadata": {},
   "outputs": [],
   "source": [
    "def IWLS(X: np.array, y: np.array, beta_0: np.array=None, \n",
    "         step_schedule: Literal[\"constant\", \"robbins\"]=\"constant\", alpha: float=1.,\n",
    "         max_step: int=25, tol: float=1e-10, \n",
    "         rng_generator: np.random.Generator=None, \n",
    "         store_history: bool=False) -> np.array:\n",
    "    \n",
    "    # randomly initialise beta_0 if no initial beta_0 is given\n",
    "    if beta_0 != None:\n",
    "        beta = beta_0\n",
    "    else:\n",
    "        if rng_generator:\n",
    "            beta = rng_generator.random(3)\n",
    "        else:\n",
    "            beta = np.zeros(3)\n",
    "\n",
    "    if store_history:\n",
    "        history = [beta]   # create list of history of beta\n",
    "\n",
    "    # IWLS\n",
    "    for k in range(max_step):\n",
    "\n",
    "        if step_schedule == \"robbins\":\n",
    "            alpha_k = alpha / (1 + k)\n",
    "        else:\n",
    "            alpha_k = alpha\n",
    "\n",
    "        # compute weights vector\n",
    "        logistic = 1 / (1 + np.exp(-X @ beta))\n",
    "        weights = 6 * logistic * (1 - logistic)\n",
    "\n",
    "        # TODO: check if the alpha_k scalings are correct\n",
    "        # compute target for regression\n",
    "        y_tilde = y / weights\n",
    "        mu_tilde = 1 / (1 - logistic)\n",
    "        big_y = (alpha_k ** (1/4)) * np.sqrt(weights) * (y_tilde - mu_tilde + X @ beta / alpha_k)\n",
    "        \n",
    "        # compute design matrix for regression\n",
    "        new_design = (alpha_k ** (1/4)) * np.sqrt(weights).reshape(-1,1) * X\n",
    "\n",
    "        # update beta\n",
    "        new_beta = np.linalg.lstsq(new_design, big_y, rcond=None)[0]\n",
    "\n",
    "        # store history\n",
    "        if store_history:\n",
    "            history.append(new_beta)\n",
    "\n",
    "        # check if terminate\n",
    "        if abs(loss(new_beta, X, y) - loss(beta, X, y)) < tol:\n",
    "            break\n",
    "        else:\n",
    "            beta = new_beta\n",
    "\n",
    "    # return\n",
    "    if store_history:\n",
    "        return history\n",
    "    else:\n",
    "        return new_beta"
   ]
  },
  {
   "cell_type": "code",
   "execution_count": 226,
   "metadata": {},
   "outputs": [
    {
     "data": {
      "text/plain": [
       "[<matplotlib.lines.Line2D at 0x1684aa110>]"
      ]
     },
     "execution_count": 226,
     "metadata": {},
     "output_type": "execute_result"
    },
    {
     "data": {
      "image/png": "[encoded data removed]",
      "text/plain": [
       "<Figure size 640x480 with 1 Axes>"
      ]
     },
     "metadata": {},
     "output_type": "display_data"
    }
   ],
   "source": [
    "hist = IWLS(X, y, alpha=1, max_step=50, store_history=True)\n",
    "plt.plot([loss(beta, X, y) for beta in hist])"
   ]
  },
  {
   "cell_type": "code",
   "execution_count": 227,
   "metadata": {},
   "outputs": [
    {
     "data": {
      "text/plain": [
       "array([ 7.77213793e+00, -1.69735619e-01,  2.58459327e-03])"
      ]
     },
     "execution_count": 227,
     "metadata": {},
     "output_type": "execute_result"
    }
   ],
   "source": [
    "hist[-1]"
   ]
  },
  {
   "cell_type": "code",
   "execution_count": 219,
   "metadata": {},
   "outputs": [
    {
     "data": {
      "text/plain": [
       "[<matplotlib.lines.Line2D at 0x1695591d0>]"
      ]
     },
     "execution_count": 219,
     "metadata": {},
     "output_type": "execute_result"
    },
    {
     "data": {
      "image/png": "[encoded data removed]",
      "text/plain": [
       "<Figure size 640x480 with 1 Axes>"
      ]
     },
     "metadata": {},
     "output_type": "display_data"
    }
   ],
   "source": [
    "hist = sgd(X, y, alpha=1e-5, step_schedule=\"robbins\", store_history=True, max_step=5000)\n",
    "plt.plot([loss(beta, X, y) for beta in hist])"
   ]
  },
  {
   "cell_type": "code",
   "execution_count": 220,
   "metadata": {},
   "outputs": [
    {
     "data": {
      "text/plain": [
       "array([-0.00023913, -0.02221312, -0.00815592])"
      ]
     },
     "execution_count": 220,
     "metadata": {},
     "output_type": "execute_result"
    }
   ],
   "source": [
    "hist[-1]"
   ]
  },
  {
   "cell_type": "code",
   "execution_count": 153,
   "metadata": {},
   "outputs": [],
   "source": [
    "endog = pd.DataFrame()\n",
    "endog[\"eroded\"] = orings[\"eroded\"]\n",
    "endog[\"normal\"] = 6 - orings[\"eroded\"]\n",
    "\n",
    "exog = sm.add_constant(orings[[\"temperature\", \"pressure\"]], prepend=False)"
   ]
  },
  {
   "cell_type": "code",
   "execution_count": 221,
   "metadata": {},
   "outputs": [
    {
     "name": "stdout",
     "output_type": "stream",
     "text": [
      "temperature   -0.169736\n",
      "pressure       0.002585\n",
      "const          7.772138\n",
      "dtype: float64\n"
     ]
    }
   ],
   "source": [
    "glm_binom = sm.GLM(endog, exog, family=sm.families.Binomial())\n",
    "res = glm_binom.fit()\n",
    "print(res.params)"
   ]
  },
  {
   "cell_type": "code",
   "execution_count": 229,
   "metadata": {},
   "outputs": [],
   "source": [
    "# print(res.summary())"
   ]
  }
 ],
 "metadata": {
  "kernelspec": {
   "display_name": "Python 3.11.7",
   "language": "python",
   "name": "python3"
  },
  "language_info": {
   "codemirror_mode": {
    "name": "ipython",
    "version": 3
   },
   "file_extension": ".py",
   "mimetype": "text/x-python",
   "name": "python",
   "nbconvert_exporter": "python",
   "pygments_lexer": "ipython3",
   "version": "3.11.7"
  },
  "orig_nbformat": 4,
  "vscode": {
   "interpreter": {
    "hash": "1e12783548a729e35bcf03f0ccefadf87d2de6337b9e069a9679467bbc2c488d"
   }
  }
 },
 "nbformat": 4,
 "nbformat_minor": 2
}
